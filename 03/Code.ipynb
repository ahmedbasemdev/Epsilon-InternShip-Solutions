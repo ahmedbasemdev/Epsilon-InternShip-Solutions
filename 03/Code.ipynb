{
 "cells": [
  {
   "cell_type": "markdown",
   "id": "448480ed",
   "metadata": {
    "id": "448480ed"
   },
   "source": [
    "# 1) Import Libraries"
   ]
  },
  {
   "cell_type": "code",
   "execution_count": null,
   "id": "753530d4",
   "metadata": {
    "id": "753530d4"
   },
   "outputs": [],
   "source": [
    "import pandas as pd\n",
    "import numpy as np\n",
    "import matplotlib.pyplot as plt\n",
    "%matplotlib inline\n",
    "import seaborn as sns\n",
    "sns.set(style ='whitegrid')\n",
    "pd.set_option('display.max_columns',None)\n",
    "\n",
    "from sklearn.preprocessing import LabelEncoder\n",
    "from sklearn.model_selection import train_test_split\n",
    "from tqdm import tqdm\n",
    "\n",
    "import warnings,datetime,calendar\n",
    "warnings.filterwarnings('ignore')"
   ]
  },
  {
   "cell_type": "code",
   "execution_count": null,
   "id": "d521c730",
   "metadata": {
    "id": "d521c730"
   },
   "outputs": [],
   "source": [
    "# List = []\n",
    "# for i in tqdm(range(100000000)) : \n",
    "#     List.append(i)"
   ]
  },
  {
   "cell_type": "markdown",
   "id": "3c6913fe",
   "metadata": {
    "id": "3c6913fe"
   },
   "source": [
    "# 2) Reading Data"
   ]
  },
  {
   "cell_type": "code",
   "execution_count": null,
   "id": "8288ce6d",
   "metadata": {
    "id": "8288ce6d"
   },
   "outputs": [],
   "source": [
    "data = pd.read_csv('OnlineRetail.csv')"
   ]
  },
  {
   "cell_type": "code",
   "execution_count": null,
   "id": "9be2c20e",
   "metadata": {
    "id": "9be2c20e",
    "outputId": "c077bb11-3796-4736-d3f5-3a407dc4bbb9"
   },
   "outputs": [],
   "source": [
    "data"
   ]
  },
  {
   "cell_type": "code",
   "execution_count": null,
   "id": "4b7ea722",
   "metadata": {
    "id": "4b7ea722",
    "outputId": "46260e72-5e68-449d-d3fe-87dfd6cb63f9"
   },
   "outputs": [],
   "source": [
    "data.info()"
   ]
  },
  {
   "cell_type": "code",
   "execution_count": null,
   "id": "3f399638",
   "metadata": {
    "id": "3f399638",
    "outputId": "8fc5fea9-3dd8-4c2b-c0a0-5c8414992273"
   },
   "outputs": [],
   "source": [
    "data.describe()"
   ]
  },
  {
   "cell_type": "markdown",
   "id": "4d752a41",
   "metadata": {
    "id": "4d752a41"
   },
   "source": [
    "# 3) Data Cleaning"
   ]
  },
  {
   "cell_type": "code",
   "execution_count": null,
   "id": "8d9fef7b",
   "metadata": {
    "id": "8d9fef7b",
    "outputId": "6e65be45-3d58-42d1-d6ad-96906f155809"
   },
   "outputs": [],
   "source": [
    "data.columns"
   ]
  },
  {
   "cell_type": "markdown",
   "id": "db422a63",
   "metadata": {
    "id": "db422a63"
   },
   "source": [
    "### Abnormal Values"
   ]
  },
  {
   "cell_type": "code",
   "execution_count": null,
   "id": "652be779",
   "metadata": {
    "id": "652be779",
    "outputId": "a40b0442-ba56-405d-ec27-9a0196f62b4b"
   },
   "outputs": [],
   "source": [
    "data[data['Quantity']<=0]"
   ]
  },
  {
   "cell_type": "code",
   "execution_count": null,
   "id": "420a4157",
   "metadata": {
    "id": "420a4157",
    "outputId": "318bf314-3d4a-43db-ce98-a417679fbfbb"
   },
   "outputs": [],
   "source": [
    "data[data['Quantity']<=0]['Quantity'].mean()"
   ]
  },
  {
   "cell_type": "code",
   "execution_count": null,
   "id": "e625500b",
   "metadata": {
    "id": "e625500b",
    "outputId": "427c2b06-5584-4ccd-ad24-4ba145d37a08"
   },
   "outputs": [],
   "source": [
    "data[data['UnitPrice']<=0]"
   ]
  },
  {
   "cell_type": "code",
   "execution_count": null,
   "id": "089b233d",
   "metadata": {
    "id": "089b233d",
    "outputId": "2f79f78c-49ae-4d7c-8dda-7de1ec306c6f"
   },
   "outputs": [],
   "source": [
    "Wrongindices = []\n",
    "\n",
    "Wrongindices = list(data[data['Quantity']<=0].index)\n",
    "Wrongindices.extend(data[data['UnitPrice']<=0].index)\n",
    "len(Wrongindices), len(set(Wrongindices))"
   ]
  },
  {
   "cell_type": "code",
   "execution_count": null,
   "id": "196af67c",
   "metadata": {
    "id": "196af67c"
   },
   "outputs": [],
   "source": [
    "Wrongindices = list(set(Wrongindices))"
   ]
  },
  {
   "cell_type": "code",
   "execution_count": null,
   "id": "3b4193c1",
   "metadata": {
    "id": "3b4193c1"
   },
   "outputs": [],
   "source": [
    "# A = [1,2,3,4,5,6,7,8,9]  \n",
    "# B = [10,12,12,13]\n",
    "\n",
    "# A.extend(B)\n",
    "# A"
   ]
  },
  {
   "cell_type": "code",
   "execution_count": null,
   "id": "4cb1da90",
   "metadata": {
    "id": "4cb1da90"
   },
   "outputs": [],
   "source": [
    "# A = [1,2,4,5,2,1,4,5]\n",
    "\n",
    "# set(A)"
   ]
  },
  {
   "cell_type": "code",
   "execution_count": null,
   "id": "437160b7",
   "metadata": {
    "id": "437160b7",
    "outputId": "eaf383f0-0815-47c8-d130-8a9150a02136"
   },
   "outputs": [],
   "source": [
    "len(Wrongindices)"
   ]
  },
  {
   "cell_type": "code",
   "execution_count": null,
   "id": "36036ade",
   "metadata": {
    "id": "36036ade",
    "outputId": "9a1393bf-46f5-4074-8371-7ee0104f9f31"
   },
   "outputs": [],
   "source": [
    "data.drop(Wrongindices,axis=0,inplace=True)\n",
    "data.reset_index(inplace=True)\n",
    "data.drop(['index'],axis = 1,inplace=True)\n",
    "data.shape"
   ]
  },
  {
   "cell_type": "code",
   "execution_count": null,
   "id": "722e2450",
   "metadata": {
    "id": "722e2450",
    "outputId": "3a4415f5-94a3-4908-bbc3-9a4b3188b8d5"
   },
   "outputs": [],
   "source": [
    "data.describe()"
   ]
  },
  {
   "cell_type": "code",
   "execution_count": null,
   "id": "b649e970",
   "metadata": {
    "id": "b649e970",
    "outputId": "d3cf0942-996c-4ed0-e170-9dc710f8de9e"
   },
   "outputs": [],
   "source": [
    "data[data['Quantity']>5000]"
   ]
  },
  {
   "cell_type": "code",
   "execution_count": null,
   "id": "60b3c9c9",
   "metadata": {
    "id": "60b3c9c9",
    "outputId": "f3ecec69-15cf-405c-d31f-1b703035005c"
   },
   "outputs": [],
   "source": [
    "data[data['UnitPrice']>1000]"
   ]
  },
  {
   "cell_type": "markdown",
   "id": "20df03a7",
   "metadata": {
    "id": "20df03a7"
   },
   "source": [
    "### Nulls"
   ]
  },
  {
   "cell_type": "code",
   "execution_count": null,
   "id": "9db32bde",
   "metadata": {
    "id": "9db32bde",
    "outputId": "d16eb8c5-e895-4a04-b41c-8cb8c8360665"
   },
   "outputs": [],
   "source": [
    "data.isna().sum()"
   ]
  },
  {
   "cell_type": "code",
   "execution_count": null,
   "id": "fa8b1cbf",
   "metadata": {
    "id": "fa8b1cbf",
    "outputId": "2a99570d-5a17-4934-81bc-43188cb13077"
   },
   "outputs": [],
   "source": [
    "'No ID' in data['CustomerID'].tolist()"
   ]
  },
  {
   "cell_type": "code",
   "execution_count": null,
   "id": "7aa62c22",
   "metadata": {
    "id": "7aa62c22",
    "outputId": "992a233b-158f-416f-a198-cd17dfb691d5"
   },
   "outputs": [],
   "source": [
    "data['CustomerID'].fillna('No ID',inplace=True)\n",
    "data.isna().sum()"
   ]
  },
  {
   "cell_type": "code",
   "execution_count": null,
   "id": "47332d28",
   "metadata": {
    "id": "47332d28",
    "outputId": "de19ee40-0a65-470d-a32a-5f6a2688f632"
   },
   "outputs": [],
   "source": [
    "data['Member'] = data['CustomerID'].apply(lambda x : 0 if x =='No ID' else 1)\n",
    "data['Member'].value_counts()"
   ]
  },
  {
   "cell_type": "code",
   "execution_count": null,
   "id": "5966f477",
   "metadata": {
    "id": "5966f477",
    "outputId": "51274f9b-3679-4a6c-89c0-dc6e35a5b24b"
   },
   "outputs": [],
   "source": [
    "Data = pd.DataFrame([[1,2,3,4],[1,2,3,4],[1,2,3,4],[1,5,2,6],[1,5,2,6],[9,8,5,2]])\n",
    "Data"
   ]
  },
  {
   "cell_type": "code",
   "execution_count": null,
   "id": "4c4d44aa",
   "metadata": {
    "id": "4c4d44aa",
    "outputId": "c490a7ad-33c7-48c0-a2cd-5aec1bf96baa"
   },
   "outputs": [],
   "source": [
    "Data.duplicated()"
   ]
  },
  {
   "cell_type": "code",
   "execution_count": null,
   "id": "64bd6eea",
   "metadata": {
    "id": "64bd6eea",
    "outputId": "e8201e8d-0dce-42c5-8f6a-258d03593cc2"
   },
   "outputs": [],
   "source": [
    "Data.drop_duplicates(inplace=True)\n",
    "Data"
   ]
  },
  {
   "cell_type": "code",
   "execution_count": null,
   "id": "59f5bd66",
   "metadata": {
    "id": "59f5bd66",
    "outputId": "a7db0458-7475-4876-db6d-db17e87299ff"
   },
   "outputs": [],
   "source": [
    "data.duplicated()"
   ]
  },
  {
   "cell_type": "code",
   "execution_count": null,
   "id": "d0b45de7",
   "metadata": {
    "id": "d0b45de7",
    "outputId": "a7112537-7e0b-4d89-928e-f41531b5b47e"
   },
   "outputs": [],
   "source": [
    "DuplicateIndices = []\n",
    "for i,row in enumerate(data.duplicated().tolist()) : \n",
    "    if row == True : DuplicateIndices.append(i)\n",
    "len(DuplicateIndices)"
   ]
  },
  {
   "cell_type": "code",
   "execution_count": null,
   "id": "62c3041e",
   "metadata": {
    "id": "62c3041e",
    "outputId": "80cfd3b4-cfd0-4916-9713-88beb52859e2"
   },
   "outputs": [],
   "source": [
    "DuplicateIndices"
   ]
  },
  {
   "cell_type": "code",
   "execution_count": null,
   "id": "afcb7d6a",
   "metadata": {
    "id": "afcb7d6a",
    "outputId": "4c9f541f-d569-4e5a-d77b-6c137213c53b"
   },
   "outputs": [],
   "source": [
    "data.drop_duplicates(inplace=True)\n",
    "data.reset_index(inplace=True)\n",
    "data.drop(['index'],axis = 1,inplace=True)\n",
    "data.shape"
   ]
  },
  {
   "cell_type": "code",
   "execution_count": null,
   "id": "19587e07",
   "metadata": {
    "id": "19587e07",
    "outputId": "9d375cf2-70ee-454c-de4e-076c014e18d1"
   },
   "outputs": [],
   "source": [
    "524878+5226"
   ]
  },
  {
   "cell_type": "code",
   "execution_count": null,
   "id": "2062f5a9",
   "metadata": {
    "id": "2062f5a9"
   },
   "outputs": [],
   "source": []
  },
  {
   "cell_type": "markdown",
   "id": "6e9f987a",
   "metadata": {
    "id": "6e9f987a"
   },
   "source": [
    "# 4) Data Processing"
   ]
  },
  {
   "cell_type": "code",
   "execution_count": null,
   "id": "23375ec2",
   "metadata": {
    "id": "23375ec2"
   },
   "outputs": [],
   "source": [
    "def ShowDetails() : \n",
    "    global data\n",
    "    for col in data.columns : \n",
    "        print(f' for feature {col}')\n",
    "        print(f'Number of Unique Values {len(data[col].unique())}')\n",
    "        print(f' Random Value {data[col][np.random.randint(data.shape[0])]}')\n",
    "        print(f' Random Value {data[col][np.random.randint(data.shape[0])]}')\n",
    "        print(f' Random Value {data[col][np.random.randint(data.shape[0])]}')\n",
    "        print('-------------------------------------------------------')"
   ]
  },
  {
   "cell_type": "code",
   "execution_count": null,
   "id": "cd36813e",
   "metadata": {
    "id": "cd36813e",
    "outputId": "65b89dd1-55cf-40cc-e29c-5f51f83f8340"
   },
   "outputs": [],
   "source": [
    "ShowDetails()"
   ]
  },
  {
   "cell_type": "code",
   "execution_count": null,
   "id": "2737afaa",
   "metadata": {
    "id": "2737afaa",
    "outputId": "9b3ae247-ea49-4e3d-dc4a-92cfaf715bee"
   },
   "outputs": [],
   "source": [
    "data.head()"
   ]
  },
  {
   "cell_type": "code",
   "execution_count": null,
   "id": "61f61f33",
   "metadata": {
    "id": "61f61f33",
    "outputId": "e92424f8-79b4-4942-a5b5-de77f5656dbd"
   },
   "outputs": [],
   "source": [
    "data[data['InvoiceNo']=='536365']['InvoiceDate'].unique()"
   ]
  },
  {
   "cell_type": "code",
   "execution_count": null,
   "id": "1fbf028a",
   "metadata": {
    "id": "1fbf028a"
   },
   "outputs": [],
   "source": [
    "# InvoiceNumberList = []\n",
    "# for i in tqdm(data['InvoiceNo'].unique()) : \n",
    "#     InvoiceNumberList.append(len(data[data['InvoiceNo']==i]['InvoiceDate'].unique()))   "
   ]
  },
  {
   "cell_type": "code",
   "execution_count": null,
   "id": "e0f0f441",
   "metadata": {
    "id": "e0f0f441"
   },
   "outputs": [],
   "source": [
    "# set(InvoiceNumberList) "
   ]
  },
  {
   "cell_type": "code",
   "execution_count": null,
   "id": "3487ac50",
   "metadata": {
    "id": "3487ac50",
    "outputId": "36d52f74-cb13-4b08-cdb5-2966d61f555e"
   },
   "outputs": [],
   "source": [
    "data.info()"
   ]
  },
  {
   "cell_type": "code",
   "execution_count": null,
   "id": "9818a78a",
   "metadata": {
    "id": "9818a78a",
    "outputId": "14220faa-cd9d-4323-dc65-5a76aa6b6905"
   },
   "outputs": [],
   "source": [
    "data['InvoiceDate'] = pd.to_datetime(data['InvoiceDate'],format = '%d-%m-%Y %H:%M')\n",
    "data['InvoiceDate']"
   ]
  },
  {
   "cell_type": "code",
   "execution_count": null,
   "id": "3115680e",
   "metadata": {
    "id": "3115680e",
    "outputId": "416d6b09-90a4-45af-b04c-f9524c190c52"
   },
   "outputs": [],
   "source": [
    "data.info()"
   ]
  },
  {
   "cell_type": "code",
   "execution_count": null,
   "id": "04557e7e",
   "metadata": {
    "id": "04557e7e",
    "outputId": "dd775c72-a371-47b7-d0ee-a73f80940f01"
   },
   "outputs": [],
   "source": [
    "data['Quantity'].min(),data['Quantity'].max()"
   ]
  },
  {
   "cell_type": "code",
   "execution_count": null,
   "id": "5c96be55",
   "metadata": {
    "id": "5c96be55",
    "outputId": "b59d9a74-04ae-4ef5-de5f-dee49c3ce892"
   },
   "outputs": [],
   "source": [
    "data['InvoiceDate'].min(),data['InvoiceDate'].max()"
   ]
  },
  {
   "cell_type": "code",
   "execution_count": null,
   "id": "846024da",
   "metadata": {
    "id": "846024da",
    "outputId": "c34d6319-e853-45ab-ad43-2979ab4f9822"
   },
   "outputs": [],
   "source": [
    "data['InvoiceDate'].max() - data['InvoiceDate'].min()"
   ]
  },
  {
   "cell_type": "code",
   "execution_count": null,
   "id": "6d43a1b7",
   "metadata": {
    "id": "6d43a1b7",
    "outputId": "edadffb2-a92b-4651-cb19-ee8655164ed6"
   },
   "outputs": [],
   "source": [
    "data['Year'] = data['InvoiceDate'].dt.year\n",
    "data['Month'] = data['InvoiceDate'].dt.month\n",
    "data['Day'] = data['InvoiceDate'].dt.day\n",
    "data['Hour'] = data['InvoiceDate'].dt.hour\n",
    "data['WeekDay'] = data['InvoiceDate'].dt.day_name()\n",
    "data['WeekDayCase'] = data['WeekDay'].apply(lambda x : 'WeekEnd' if str(x).lower() in ['saturday','sunday'] else 'WeekDay')\n",
    "data"
   ]
  },
  {
   "cell_type": "code",
   "execution_count": null,
   "id": "43ac2e46",
   "metadata": {
    "id": "43ac2e46",
    "outputId": "d8b00b8c-e193-4620-b885-f7ac24c1bc1a"
   },
   "outputs": [],
   "source": [
    "data['WeekDayCase'].value_counts()"
   ]
  },
  {
   "cell_type": "code",
   "execution_count": null,
   "id": "c6f4d4a7",
   "metadata": {
    "id": "c6f4d4a7",
    "outputId": "fafc3e7d-d15f-47d3-f34e-b3d0c239dd0b"
   },
   "outputs": [],
   "source": [
    "data['WeekDay'].value_counts()"
   ]
  },
  {
   "cell_type": "code",
   "execution_count": null,
   "id": "1a0a4324",
   "metadata": {
    "id": "1a0a4324"
   },
   "outputs": [],
   "source": [
    "def DayPart(H) :\n",
    "    \n",
    "    if H <6 : \n",
    "        return 'Early Morning'\n",
    "    elif 6<= H< 12 : \n",
    "        return 'Morning'\n",
    "    elif 12<= H< 15 : \n",
    "        return 'Noon'\n",
    "    elif 15<= H< 19 : \n",
    "        return 'Evening'\n",
    "    else : \n",
    "        return 'Night'"
   ]
  },
  {
   "cell_type": "code",
   "execution_count": null,
   "id": "ffa9e2b5",
   "metadata": {
    "id": "ffa9e2b5"
   },
   "outputs": [],
   "source": [
    "data['DayPart'] = data['Hour'].apply(lambda x : DayPart(int(x)))"
   ]
  },
  {
   "cell_type": "code",
   "execution_count": null,
   "id": "23d2155f",
   "metadata": {
    "id": "23d2155f",
    "outputId": "be7eb6b1-58ef-45c0-dbd4-62249e9aece2"
   },
   "outputs": [],
   "source": [
    "data['DayPart'].value_counts()"
   ]
  },
  {
   "cell_type": "code",
   "execution_count": null,
   "id": "282a0556",
   "metadata": {
    "id": "282a0556",
    "outputId": "ec34c82d-83c8-4d17-b94b-330580c3c785"
   },
   "outputs": [],
   "source": [
    "data"
   ]
  },
  {
   "cell_type": "code",
   "execution_count": null,
   "id": "902ee9c3",
   "metadata": {
    "id": "902ee9c3"
   },
   "outputs": [],
   "source": [
    "# len(set([str(i).lower for i in data['StockCode'].tolist()])) ,len(data['Description'].unique())  "
   ]
  },
  {
   "cell_type": "code",
   "execution_count": null,
   "id": "82b5cd53",
   "metadata": {
    "id": "82b5cd53",
    "outputId": "420c8e56-0906-4cbd-d7bc-a0732be4bae4"
   },
   "outputs": [],
   "source": [
    "Text = 'I love Python and hate R'\n",
    "len(Text),len(Text.split())"
   ]
  },
  {
   "cell_type": "code",
   "execution_count": null,
   "id": "48724866",
   "metadata": {
    "id": "48724866",
    "outputId": "ffea03a1-1047-4bff-feb4-9f7719ccee6c"
   },
   "outputs": [],
   "source": [
    "Text.split()"
   ]
  },
  {
   "cell_type": "code",
   "execution_count": null,
   "id": "0aa33fdc",
   "metadata": {
    "id": "0aa33fdc"
   },
   "outputs": [],
   "source": []
  },
  {
   "cell_type": "code",
   "execution_count": null,
   "id": "a36eb317",
   "metadata": {
    "id": "a36eb317"
   },
   "outputs": [],
   "source": []
  },
  {
   "cell_type": "code",
   "execution_count": null,
   "id": "08dfc733",
   "metadata": {
    "id": "08dfc733"
   },
   "outputs": [],
   "source": []
  },
  {
   "cell_type": "code",
   "execution_count": null,
   "id": "39f66347",
   "metadata": {
    "id": "39f66347",
    "outputId": "74b25880-36e9-4a3e-a8ef-ca51c905d29e"
   },
   "outputs": [],
   "source": [
    "data['Desc Char Length'] = data['Description'].apply(lambda x :  len(x))\n",
    "data['Desc Word Length'] = data['Description'].apply(lambda x :  len(x.split()))\n",
    "data.head()"
   ]
  },
  {
   "cell_type": "code",
   "execution_count": null,
   "id": "075c1fb9",
   "metadata": {
    "id": "075c1fb9",
    "outputId": "1c750f0d-0f87-4f4e-d586-98a81d62f5ea"
   },
   "outputs": [],
   "source": [
    "data['Desc Char Length'].min(),data['Desc Char Length'].max()"
   ]
  },
  {
   "cell_type": "code",
   "execution_count": null,
   "id": "3c088c28",
   "metadata": {
    "id": "3c088c28",
    "outputId": "ffce3ed4-529a-44e1-a41e-53cd5261caf3"
   },
   "outputs": [],
   "source": [
    "data[data['Desc Char Length']==6]['Description'].unique()"
   ]
  },
  {
   "cell_type": "code",
   "execution_count": null,
   "id": "5a169168",
   "metadata": {
    "id": "5a169168",
    "outputId": "82ca8435-bcd9-491e-e841-c2dc7729f3e5"
   },
   "outputs": [],
   "source": [
    "data[data['Desc Char Length']==35]['Description'].unique()"
   ]
  },
  {
   "cell_type": "code",
   "execution_count": null,
   "id": "31ee3f28",
   "metadata": {
    "id": "31ee3f28",
    "outputId": "f7442dbf-ad87-4bc2-f53a-74f0fb53c4e6"
   },
   "outputs": [],
   "source": [
    "data['Desc Word Length'].min(),data['Desc Word Length'].max()"
   ]
  },
  {
   "cell_type": "code",
   "execution_count": null,
   "id": "58894648",
   "metadata": {
    "id": "58894648",
    "outputId": "323e529d-63bb-464e-b780-27d9e0db3ff1"
   },
   "outputs": [],
   "source": [
    "data[data['Desc Word Length']==1]['Description'].unique()"
   ]
  },
  {
   "cell_type": "code",
   "execution_count": null,
   "id": "20f96c91",
   "metadata": {
    "id": "20f96c91",
    "outputId": "c3610a2a-04e0-44f3-ea8f-c2942c19f527"
   },
   "outputs": [],
   "source": [
    "data[data['Desc Word Length']==8]['Description'].unique()"
   ]
  },
  {
   "cell_type": "code",
   "execution_count": null,
   "id": "49974cbb",
   "metadata": {
    "id": "49974cbb",
    "outputId": "36d82575-44fa-40e5-f2ad-a28841f2c8de"
   },
   "outputs": [],
   "source": [
    "Text = 'my name is Hesham,and I`m (ML Engineer) . . . .'\n",
    "Text.split()"
   ]
  },
  {
   "cell_type": "code",
   "execution_count": null,
   "id": "bac7c1e1",
   "metadata": {
    "id": "bac7c1e1",
    "outputId": "cdbf4892-2c07-4adb-ad7a-279c7906170b"
   },
   "outputs": [],
   "source": [
    "Names = ['ahmed','fatma','george','sayed','husain']\n",
    "\n",
    "' '.join(Names)"
   ]
  },
  {
   "cell_type": "code",
   "execution_count": null,
   "id": "de1a0dd5",
   "metadata": {
    "id": "de1a0dd5",
    "outputId": "c7c23a85-c0fd-4d08-d302-9c377818e740"
   },
   "outputs": [],
   "source": [
    "AllDescription = ' '.join(data['Description'].tolist())\n",
    "AllDescription = ' '.join([(i).lower() for i in AllDescription.split()])\n",
    "len(AllDescription)"
   ]
  },
  {
   "cell_type": "code",
   "execution_count": null,
   "id": "c600d77c",
   "metadata": {
    "id": "c600d77c",
    "outputId": "eaeb6119-6dcc-4b0d-862d-8997f3fca768"
   },
   "outputs": [],
   "source": [
    "len(AllDescription.split())"
   ]
  },
  {
   "cell_type": "code",
   "execution_count": null,
   "id": "2aa2228e",
   "metadata": {
    "id": "2aa2228e",
    "outputId": "92ae36b5-510d-485b-800a-b9316667dce0"
   },
   "outputs": [],
   "source": [
    "AllDescription[:1000]"
   ]
  },
  {
   "cell_type": "code",
   "execution_count": null,
   "id": "2d3e8bee",
   "metadata": {
    "id": "2d3e8bee",
    "outputId": "207fd13b-995b-4ab3-bb52-8352ce1ce466"
   },
   "outputs": [],
   "source": [
    "MostRepeatedWords = {}\n",
    "\n",
    "for Word in AllDescription.split() : \n",
    "    if Word in MostRepeatedWords.keys() : \n",
    "        MostRepeatedWords[Word] +=1\n",
    "    else : \n",
    "        MostRepeatedWords[Word] =1\n",
    "MostRepeatedWords"
   ]
  },
  {
   "cell_type": "code",
   "execution_count": null,
   "id": "bf52fc7a",
   "metadata": {
    "id": "bf52fc7a",
    "outputId": "5a471f18-ca6f-464b-e33b-52bb8f4052ac"
   },
   "outputs": [],
   "source": [
    "len(MostRepeatedWords.keys())"
   ]
  },
  {
   "cell_type": "code",
   "execution_count": null,
   "id": "0d811de6",
   "metadata": {
    "id": "0d811de6",
    "outputId": "529efc89-deb8-48b3-b9d9-86d2f00ecdd5"
   },
   "outputs": [],
   "source": [
    "MostRepeatedWords=  {k:v for k,v in sorted(MostRepeatedWords.items(),key = lambda item: item[1],reverse = True) }\n",
    "MostRepeatedWords"
   ]
  },
  {
   "cell_type": "code",
   "execution_count": null,
   "id": "a71e991d",
   "metadata": {
    "id": "a71e991d"
   },
   "outputs": [],
   "source": [
    "ImportantWords = ['bag','red','heart','retrospot','vintage','design','pink','christmas','box','kitchen'] "
   ]
  },
  {
   "cell_type": "code",
   "execution_count": null,
   "id": "ead52f92",
   "metadata": {
    "id": "ead52f92",
    "outputId": "0706910b-a117-4a1b-b14a-14df0a80af26"
   },
   "outputs": [],
   "source": [
    "GuessedWords  = ['car','electric','kitchen','electronic']\n",
    "\n",
    "for Word in GuessedWords : \n",
    "    if Word in MostRepeatedWords.keys():\n",
    "        print(f'for Word {Word} repeated {MostRepeatedWords[Word]}')"
   ]
  },
  {
   "cell_type": "code",
   "execution_count": null,
   "id": "7efc79ad",
   "metadata": {
    "id": "7efc79ad"
   },
   "outputs": [],
   "source": [
    "for Word in ImportantWords : \n",
    "    data[f'Repeated Word : {Word}'] = data['Description'].apply(lambda x : 1 if Word in x.lower() else 0)"
   ]
  },
  {
   "cell_type": "code",
   "execution_count": null,
   "id": "df09334f",
   "metadata": {
    "id": "df09334f",
    "outputId": "890cf5b4-1413-416b-c010-7c5043f48e19"
   },
   "outputs": [],
   "source": [
    "data.head()"
   ]
  },
  {
   "cell_type": "code",
   "execution_count": null,
   "id": "70b0879b",
   "metadata": {
    "id": "70b0879b",
    "outputId": "3a252fd2-383b-4ec8-fe00-17370a03a0e8",
    "scrolled": true
   },
   "outputs": [],
   "source": [
    "data[data['Repeated Word : red']==1]['Description']"
   ]
  },
  {
   "cell_type": "code",
   "execution_count": null,
   "id": "a51c82d6",
   "metadata": {
    "id": "a51c82d6"
   },
   "outputs": [],
   "source": []
  },
  {
   "cell_type": "code",
   "execution_count": null,
   "id": "b35b1914",
   "metadata": {
    "id": "b35b1914"
   },
   "outputs": [],
   "source": [
    "data['Country'].unique()"
   ]
  },
  {
   "cell_type": "code",
   "execution_count": null,
   "id": "1ed66475",
   "metadata": {
    "id": "1ed66475"
   },
   "outputs": [],
   "source": [
    "data['Country'].replace('Israel','Palestine',inplace=True)\n",
    "data['Country'].unique()"
   ]
  },
  {
   "cell_type": "code",
   "execution_count": null,
   "id": "a9fc1a6a",
   "metadata": {
    "id": "a9fc1a6a"
   },
   "outputs": [],
   "source": [
    "ContinentsDict = {'Europe':['United Kingdom','France','Netherlands','Germany','Norway'\n",
    "                            ,'EIRE','Switzerland','Spain', 'Poland', 'Portugal','Italy'\n",
    "                            ,'Belgium','Lithuania','Iceland','Channel Islands','Denmark'\n",
    "                            ,'Cyprus','Sweden','Finland','Austria','Greece','Czech Republic'\n",
    "                            ,'European Community','Malta'],\n",
    "              'Asia':['Japan','Bahrain','Palestine','Hong Kong','Singapore','Lebanon',\n",
    "                      'United Arab Emirates','Saudi Arabia'],\n",
    "              'Americans':['Canada',  'Brazil', 'USA'],\n",
    "              'Other':['Australia','Unspecified','RSA']}\n",
    "ContinentsDict"
   ]
  },
  {
   "cell_type": "code",
   "execution_count": null,
   "id": "936ef442",
   "metadata": {
    "id": "936ef442"
   },
   "outputs": [],
   "source": [
    "def GetContinent(Country) : \n",
    "    global ContinentsDict\n",
    "    for Key in ContinentsDict.keys() : \n",
    "        if Country in ContinentsDict[Key] : \n",
    "            return Key\n",
    "    \n",
    "data['Continent'] = data['Country'].apply(lambda x: GetContinent(x))"
   ]
  },
  {
   "cell_type": "code",
   "execution_count": null,
   "id": "d85ba673",
   "metadata": {
    "id": "d85ba673"
   },
   "outputs": [],
   "source": [
    "data"
   ]
  },
  {
   "cell_type": "code",
   "execution_count": null,
   "id": "7ab1837d",
   "metadata": {
    "id": "7ab1837d"
   },
   "outputs": [],
   "source": [
    "for Continent in ContinentsDict.keys() : \n",
    "    Countries = ContinentsDict[Continent]\n",
    "    print(f'for Continent {Continent} , Countries are : {Countries}')\n",
    "    for Country in Countries : \n",
    "        print(data[data['Country']==Country]['Continent'].unique())\n",
    "    print('=========================================')"
   ]
  },
  {
   "cell_type": "code",
   "execution_count": null,
   "id": "7e08fc2b",
   "metadata": {
    "id": "7e08fc2b"
   },
   "outputs": [],
   "source": []
  },
  {
   "cell_type": "code",
   "execution_count": null,
   "id": "506eac18",
   "metadata": {
    "id": "506eac18"
   },
   "outputs": [],
   "source": []
  },
  {
   "cell_type": "code",
   "execution_count": null,
   "id": "283a3040",
   "metadata": {
    "id": "283a3040"
   },
   "outputs": [],
   "source": [
    "# pip install geopy"
   ]
  },
  {
   "cell_type": "code",
   "execution_count": null,
   "id": "4c67d495",
   "metadata": {
    "id": "4c67d495"
   },
   "outputs": [],
   "source": [
    "from geopy.geocoders import Nominatim\n",
    "geolocator = Nominatim(user_agent=\"catuserbot\")\n",
    "def GeoLocate(country):\n",
    "    try:\n",
    "        loc = geolocator.geocode(country)\n",
    "        return (loc.latitude, loc.longitude)\n",
    "    except:\n",
    "        return np.nan"
   ]
  },
  {
   "cell_type": "code",
   "execution_count": null,
   "id": "07da5c3b",
   "metadata": {
    "id": "07da5c3b"
   },
   "outputs": [],
   "source": [
    "GeoLocate('paris')"
   ]
  },
  {
   "cell_type": "code",
   "execution_count": null,
   "id": "38ab2e30",
   "metadata": {
    "id": "38ab2e30"
   },
   "outputs": [],
   "source": [
    "GeoLocate('washington')"
   ]
  },
  {
   "cell_type": "code",
   "execution_count": null,
   "id": "f880842a",
   "metadata": {
    "id": "f880842a"
   },
   "outputs": [],
   "source": [
    "data['Country'].unique()"
   ]
  },
  {
   "cell_type": "code",
   "execution_count": null,
   "id": "55b2f78b",
   "metadata": {
    "id": "55b2f78b"
   },
   "outputs": [],
   "source": [
    "# pip install countryinfo"
   ]
  },
  {
   "cell_type": "code",
   "execution_count": null,
   "id": "f0c2d7bc",
   "metadata": {
    "id": "f0c2d7bc"
   },
   "outputs": [],
   "source": [
    "from countryinfo import CountryInfo"
   ]
  },
  {
   "cell_type": "code",
   "execution_count": null,
   "id": "f990eb4e",
   "metadata": {
    "id": "f990eb4e"
   },
   "outputs": [],
   "source": [
    "CountryInfo('France').capital()"
   ]
  },
  {
   "cell_type": "code",
   "execution_count": null,
   "id": "be2e0017",
   "metadata": {
    "id": "be2e0017"
   },
   "outputs": [],
   "source": [
    "CapitalsDict = {}\n",
    "\n",
    "for Country in data['Country'].unique() : \n",
    "    try : \n",
    "        CapitalsDict[Country] = CountryInfo(Country).capital()\n",
    "    except :\n",
    "        print(Country)\n",
    "CapitalsDict    "
   ]
  },
  {
   "cell_type": "code",
   "execution_count": null,
   "id": "d0e5cc14",
   "metadata": {
    "id": "d0e5cc14"
   },
   "outputs": [],
   "source": [
    "CapitalsDict['EIRE'] = 'Dublin'\n",
    "CapitalsDict['Channel Islands'] = 'Peter Port'\n",
    "CapitalsDict['Palestine'] = 'Quds'\n",
    "CapitalsDict"
   ]
  },
  {
   "cell_type": "code",
   "execution_count": null,
   "id": "41836a02",
   "metadata": {
    "id": "41836a02"
   },
   "outputs": [],
   "source": [
    "LocationDict = {}\n",
    "for Country in CapitalsDict.keys() : \n",
    "    a,b = GeoLocate(CapitalsDict[Country])\n",
    "    LocationDict[Country] = [a,b]\n",
    "LocationDict    "
   ]
  },
  {
   "cell_type": "code",
   "execution_count": null,
   "id": "9f1e0e5a",
   "metadata": {
    "id": "9f1e0e5a"
   },
   "outputs": [],
   "source": [
    "len(data['Country'].unique()),len(list(LocationDict.keys()))"
   ]
  },
  {
   "cell_type": "code",
   "execution_count": null,
   "id": "71cf96b9",
   "metadata": {
    "id": "71cf96b9"
   },
   "outputs": [],
   "source": [
    "[i for i in data['Country'].unique() if not i in LocationDict.keys()]"
   ]
  },
  {
   "cell_type": "code",
   "execution_count": null,
   "id": "da7376b2",
   "metadata": {
    "id": "da7376b2"
   },
   "outputs": [],
   "source": [
    "LocationDict['Unspecified'] = [0,0]\n",
    "LocationDict['European Community'] = [51.5073219, -0.1276474]\n",
    "\n",
    "LocationDict"
   ]
  },
  {
   "cell_type": "code",
   "execution_count": null,
   "id": "05df97e7",
   "metadata": {
    "id": "05df97e7"
   },
   "outputs": [],
   "source": [
    "data['Latt'] = data['Country'].apply(lambda x : LocationDict[x][0])\n",
    "data['Long'] = data['Country'].apply(lambda x : LocationDict[x][1])\n",
    "data"
   ]
  },
  {
   "cell_type": "code",
   "execution_count": null,
   "id": "a360d014",
   "metadata": {
    "id": "a360d014"
   },
   "outputs": [],
   "source": [
    "data['TotalPrice'] = data.apply(lambda x : x['Quantity'] * x['UnitPrice'],axis=1)\n",
    "data"
   ]
  },
  {
   "cell_type": "code",
   "execution_count": null,
   "id": "b7e2dd1a",
   "metadata": {
    "id": "b7e2dd1a"
   },
   "outputs": [],
   "source": [
    "data['Quantity'].min(),data['Quantity'].max()"
   ]
  },
  {
   "cell_type": "code",
   "execution_count": null,
   "id": "8527af11",
   "metadata": {
    "id": "8527af11"
   },
   "outputs": [],
   "source": [
    "def QuantityLevel(x) : \n",
    "    x = int(x)\n",
    "    if x < 10 : \n",
    "        return 'Low'\n",
    "    elif 10<= x <100 : \n",
    "        return 'Medium'\n",
    "    else :\n",
    "        return 'Huge'\n",
    "data['Quantity Level'] =data['Quantity'] .apply(lambda x : QuantityLevel(x))\n",
    "data['Quantity Level'].value_counts()"
   ]
  },
  {
   "cell_type": "code",
   "execution_count": null,
   "id": "8f65842e",
   "metadata": {
    "id": "8f65842e"
   },
   "outputs": [],
   "source": [
    "data['UnitPrice'].min(),data['UnitPrice'].max()"
   ]
  },
  {
   "cell_type": "code",
   "execution_count": null,
   "id": "349932a3",
   "metadata": {
    "id": "349932a3"
   },
   "outputs": [],
   "source": [
    "def UnitPriceLevel(x) : \n",
    "    x = int(x)\n",
    "    if x < 1 : \n",
    "        return 'Cheap'\n",
    "    elif 1<= x <10 : \n",
    "        return 'Medium'\n",
    "    else :\n",
    "        return 'Expensive'\n",
    "data['UnitPrice Level'] =data['UnitPrice'] .apply(lambda x : UnitPriceLevel(x))\n",
    "data['UnitPrice Level'].value_counts()"
   ]
  },
  {
   "cell_type": "code",
   "execution_count": null,
   "id": "78346631",
   "metadata": {
    "id": "78346631"
   },
   "outputs": [],
   "source": [
    "data['TotalPrice'].min(),data['TotalPrice'].max()"
   ]
  },
  {
   "cell_type": "code",
   "execution_count": null,
   "id": "fd6eb2fb",
   "metadata": {
    "id": "fd6eb2fb"
   },
   "outputs": [],
   "source": [
    "def TotalPriceLevel(x) : \n",
    "    x = int(x)\n",
    "    if x < 5 : \n",
    "        return 'Cheap'\n",
    "    elif 5<= x <20 : \n",
    "        return 'Medium'\n",
    "    else :\n",
    "        return 'Expensive'\n",
    "data['TotalPriceLevel'] =data['TotalPrice'] .apply(lambda x : TotalPriceLevel(x))\n",
    "data['TotalPriceLevel'].value_counts()"
   ]
  },
  {
   "cell_type": "code",
   "execution_count": null,
   "id": "208e399d",
   "metadata": {
    "id": "208e399d"
   },
   "outputs": [],
   "source": []
  },
  {
   "cell_type": "code",
   "execution_count": null,
   "id": "25a4fa90",
   "metadata": {
    "id": "25a4fa90"
   },
   "outputs": [],
   "source": [
    "data"
   ]
  },
  {
   "cell_type": "code",
   "execution_count": null,
   "id": "1bc979be",
   "metadata": {
    "id": "1bc979be"
   },
   "outputs": [],
   "source": [
    "data[data['InvoiceNo']=='536365']['StockCode'].unique()"
   ]
  },
  {
   "cell_type": "code",
   "execution_count": null,
   "id": "fb1cb785",
   "metadata": {
    "id": "fb1cb785"
   },
   "outputs": [],
   "source": []
  },
  {
   "cell_type": "code",
   "execution_count": null,
   "id": "e194d28a",
   "metadata": {
    "id": "e194d28a"
   },
   "outputs": [],
   "source": [
    "import re"
   ]
  },
  {
   "cell_type": "code",
   "execution_count": null,
   "id": "455bec7b",
   "metadata": {
    "id": "455bec7b"
   },
   "outputs": [],
   "source": [
    "re.sub(\"\\d+\", \"\", 'abcd1234')"
   ]
  },
  {
   "cell_type": "code",
   "execution_count": null,
   "id": "bbaf7f90",
   "metadata": {
    "id": "bbaf7f90"
   },
   "outputs": [],
   "source": [
    "data['StockCode'].unique()"
   ]
  },
  {
   "cell_type": "code",
   "execution_count": null,
   "id": "bf0ad741",
   "metadata": {
    "id": "bf0ad741"
   },
   "outputs": [],
   "source": []
  },
  {
   "cell_type": "code",
   "execution_count": null,
   "id": "4991da07",
   "metadata": {
    "id": "4991da07"
   },
   "outputs": [],
   "source": [
    "data['StockCodeLetters'] = data['StockCode'].apply(lambda x :\n",
    "                                                   re.sub(\"\\d+\", \"\", x).lower())\n",
    "data['StockCodeLetters'].unique()"
   ]
  },
  {
   "cell_type": "code",
   "execution_count": null,
   "id": "343a0b68",
   "metadata": {
    "id": "343a0b68"
   },
   "outputs": [],
   "source": [
    "data['StockCodeLetters'].value_counts()"
   ]
  },
  {
   "cell_type": "code",
   "execution_count": null,
   "id": "735d8290",
   "metadata": {
    "id": "735d8290"
   },
   "outputs": [],
   "source": [
    "data['StockCodeOnlyDigits'] = data['StockCodeLetters'].apply(lambda x : \n",
    "                                                             'Yes' if x =='' \n",
    "                                                             else 'No')\n",
    "data['StockCodeOnlyDigits'].value_counts()"
   ]
  },
  {
   "cell_type": "code",
   "execution_count": null,
   "id": "af06ce6f",
   "metadata": {
    "id": "af06ce6f"
   },
   "outputs": [],
   "source": []
  },
  {
   "cell_type": "code",
   "execution_count": null,
   "id": "0aed5f08",
   "metadata": {
    "id": "0aed5f08"
   },
   "outputs": [],
   "source": [
    "data['Month'].unique()"
   ]
  },
  {
   "cell_type": "code",
   "execution_count": null,
   "id": "b1c30b46",
   "metadata": {
    "id": "b1c30b46"
   },
   "outputs": [],
   "source": [
    "SeasonsDict = {'Winter':[12,1,2],'Spring':[3,4,5],'Summer':[6,7,8],'Fall':[9,10,11]}\n",
    "data['Season'] = data['Month'].apply(lambda x : [i for i in list(\n",
    "    SeasonsDict.keys()) if int(x) in SeasonsDict[i]][0])\n",
    "data['Season'].value_counts()"
   ]
  },
  {
   "cell_type": "code",
   "execution_count": null,
   "id": "0bd785e5",
   "metadata": {
    "id": "0bd785e5"
   },
   "outputs": [],
   "source": [
    "data[data['Season']=='Fall']['Month'].unique()"
   ]
  },
  {
   "cell_type": "code",
   "execution_count": null,
   "id": "bbc39a9e",
   "metadata": {
    "id": "bbc39a9e"
   },
   "outputs": [],
   "source": [
    "data[data['Season']=='Summer']['Month'].unique()"
   ]
  },
  {
   "cell_type": "code",
   "execution_count": null,
   "id": "b47177dc",
   "metadata": {
    "id": "b47177dc"
   },
   "outputs": [],
   "source": [
    "data"
   ]
  },
  {
   "cell_type": "code",
   "execution_count": null,
   "id": "b78c7d07",
   "metadata": {
    "id": "b78c7d07"
   },
   "outputs": [],
   "source": [
    "data['WeekEnd Case'] = data['WeekDay'].apply(\n",
    "    lambda x : 'WeekEnd' if x in ['Sunday','Sunday'] else 'WeekDay')\n",
    "data['WeekEnd Case'].value_counts()"
   ]
  },
  {
   "cell_type": "code",
   "execution_count": null,
   "id": "6bd38c28",
   "metadata": {
    "id": "6bd38c28"
   },
   "outputs": [],
   "source": [
    "data[data['WeekEnd Case']=='WeekEnd']['WeekDay'].unique()"
   ]
  },
  {
   "cell_type": "code",
   "execution_count": null,
   "id": "d62a05e8",
   "metadata": {
    "id": "d62a05e8"
   },
   "outputs": [],
   "source": [
    "data[data['WeekEnd Case']=='WeekDay']['WeekDay'].unique()"
   ]
  },
  {
   "cell_type": "code",
   "execution_count": null,
   "id": "d95e8c0e",
   "metadata": {
    "id": "d95e8c0e"
   },
   "outputs": [],
   "source": [
    "data['WeekDay'].unique()"
   ]
  },
  {
   "cell_type": "markdown",
   "id": "ac8681fc",
   "metadata": {
    "id": "ac8681fc"
   },
   "source": [
    "# 5 ) Data Visualization"
   ]
  },
  {
   "cell_type": "code",
   "execution_count": null,
   "id": "872357cd",
   "metadata": {
    "id": "872357cd"
   },
   "outputs": [],
   "source": [
    "def CPlot(data,feature) : \n",
    "    fig, ax = plt.subplots(figsize=(10,6))\n",
    "    sns.countplot(x=feature, data=data,facecolor=(0, 0, 0, 0),\n",
    "                  linewidth=5,edgecolor=sns.color_palette(\"dark\", 3))\n",
    "    ax.set_xticklabels(ax.get_xticklabels(),rotation = 30)\n",
    "\n",
    "def KPlot(data,feature,Limit=0) : \n",
    "    fig, ax = plt.subplots(figsize=(10,6))\n",
    "    if Limit == 0 : \n",
    "        sns.kdeplot(data[feature], shade=True)\n",
    "    else : \n",
    "        Data = data[data[feature]<=Limit]\n",
    "        sns.kdeplot(Data[feature], shade=True)\n",
    "def BPlot(data,feature1,feature2 = None,hue = None) : \n",
    "    fig, ax = plt.subplots(figsize=(10,6))\n",
    "    if feature2 ==  None and hue == None : \n",
    "        sns.boxplot(data[feature1],width=0.3,color='r')\n",
    "    elif  feature2 !=  None and hue == None :\n",
    "        sns.boxplot(x = data[feature1],y=data[feature2],width=0.3,color='r')\n",
    "    elif  feature2 !=  None and hue != None :\n",
    "        sns.boxplot(x = data[feature1],y=data[feature2],hue=data[hue],width=0.3,color='r')\n",
    "        \n",
    "def JPlot(data,feature1,feature2,Type = 'scatter') : \n",
    "    sns.jointplot(data=data, x=feature1, y=feature2, kind=Type)   \n",
    "    \n",
    "    \n",
    "def Pie(data,feature,Limit=20) : \n",
    "    fig, ax = plt.subplots(figsize=(10,6))\n",
    "    plt.pie(data[feature].value_counts()[:Limit],labels=list(\n",
    "        data[feature].value_counts()[:Limit].index),\n",
    "        autopct ='%1.2f%%' , labeldistance = 1.1,\n",
    "            explode = [0.05 for i in range(len(data[feature].value_counts()[:Limit]))] )\n",
    "    plt.show()     "
   ]
  },
  {
   "cell_type": "code",
   "execution_count": null,
   "id": "9e09d143",
   "metadata": {
    "id": "9e09d143"
   },
   "outputs": [],
   "source": [
    "Data = data[::100]\n",
    "Data.shape,data.shape"
   ]
  },
  {
   "cell_type": "code",
   "execution_count": null,
   "id": "0dea6f0a",
   "metadata": {
    "id": "0dea6f0a"
   },
   "outputs": [],
   "source": [
    "KPlot(Data,'Quantity')"
   ]
  },
  {
   "cell_type": "code",
   "execution_count": null,
   "id": "8163d514",
   "metadata": {
    "id": "8163d514"
   },
   "outputs": [],
   "source": [
    "KPlot(Data,'Quantity',100)"
   ]
  },
  {
   "cell_type": "code",
   "execution_count": null,
   "id": "8fdec265",
   "metadata": {
    "id": "8fdec265"
   },
   "outputs": [],
   "source": [
    "KPlot(Data,'UnitPrice')"
   ]
  },
  {
   "cell_type": "code",
   "execution_count": null,
   "id": "e461608a",
   "metadata": {
    "id": "e461608a"
   },
   "outputs": [],
   "source": [
    "KPlot(Data,'UnitPrice',100)"
   ]
  },
  {
   "cell_type": "code",
   "execution_count": null,
   "id": "c9598a60",
   "metadata": {
    "id": "c9598a60"
   },
   "outputs": [],
   "source": [
    "JPlot(Data[::100] ,'Quantity','UnitPrice')"
   ]
  },
  {
   "cell_type": "code",
   "execution_count": null,
   "id": "2f284510",
   "metadata": {
    "id": "2f284510"
   },
   "outputs": [],
   "source": [
    "JPlot(Data[::100] ,'Quantity','UnitPrice','kde')"
   ]
  },
  {
   "cell_type": "code",
   "execution_count": null,
   "id": "35edb442",
   "metadata": {},
   "outputs": [],
   "source": []
  },
  {
   "cell_type": "code",
   "execution_count": null,
   "id": "0807e0ee",
   "metadata": {},
   "outputs": [],
   "source": []
  },
  {
   "cell_type": "code",
   "execution_count": null,
   "id": "3f610e69",
   "metadata": {},
   "outputs": [],
   "source": []
  },
  {
   "cell_type": "code",
   "execution_count": null,
   "id": "55cabed8",
   "metadata": {
    "id": "55cabed8"
   },
   "outputs": [],
   "source": []
  },
  {
   "cell_type": "code",
   "execution_count": null,
   "id": "ae3e2963",
   "metadata": {
    "id": "ae3e2963"
   },
   "outputs": [],
   "source": [
    "data"
   ]
  },
  {
   "cell_type": "code",
   "execution_count": null,
   "id": "8a6c4308",
   "metadata": {},
   "outputs": [],
   "source": []
  },
  {
   "cell_type": "code",
   "execution_count": null,
   "id": "ee7af06a",
   "metadata": {},
   "outputs": [],
   "source": []
  },
  {
   "cell_type": "code",
   "execution_count": null,
   "id": "de851b44",
   "metadata": {
    "id": "de851b44"
   },
   "outputs": [],
   "source": [
    "Pie(Data,'Country',5)"
   ]
  },
  {
   "cell_type": "code",
   "execution_count": null,
   "id": "4cffb791",
   "metadata": {
    "id": "4cffb791"
   },
   "outputs": [],
   "source": [
    "JPlot(Data[Data['Country']=='France'] ,'Quantity','UnitPrice','kde')"
   ]
  },
  {
   "cell_type": "code",
   "execution_count": null,
   "id": "e847d4a2",
   "metadata": {},
   "outputs": [],
   "source": [
    "JPlot(Data[Data['Country']=='Italy'] ,'Quantity','UnitPrice','kde')"
   ]
  },
  {
   "cell_type": "code",
   "execution_count": null,
   "id": "b590cbee",
   "metadata": {},
   "outputs": [],
   "source": []
  },
  {
   "cell_type": "code",
   "execution_count": null,
   "id": "795e1718",
   "metadata": {
    "id": "795e1718"
   },
   "outputs": [],
   "source": [
    "Pie(Data,'Year')"
   ]
  },
  {
   "cell_type": "code",
   "execution_count": null,
   "id": "b3e5ea36",
   "metadata": {
    "id": "b3e5ea36"
   },
   "outputs": [],
   "source": [
    "CPlot(Data,'Month')"
   ]
  },
  {
   "cell_type": "code",
   "execution_count": null,
   "id": "c36e6b0c",
   "metadata": {},
   "outputs": [],
   "source": [
    "data"
   ]
  },
  {
   "cell_type": "code",
   "execution_count": null,
   "id": "362aae3b",
   "metadata": {},
   "outputs": [],
   "source": []
  },
  {
   "cell_type": "code",
   "execution_count": null,
   "id": "edf84fc5",
   "metadata": {
    "id": "edf84fc5"
   },
   "outputs": [],
   "source": [
    "data['YearMonth'] = data.apply(lambda x : str(x['Year']) + str(x['Month']),axis=1)\n",
    "data['YearMonth'].unique()"
   ]
  },
  {
   "cell_type": "code",
   "execution_count": null,
   "id": "f6db0f8d",
   "metadata": {},
   "outputs": [],
   "source": []
  },
  {
   "cell_type": "code",
   "execution_count": null,
   "id": "fcad4c17",
   "metadata": {},
   "outputs": [],
   "source": []
  },
  {
   "cell_type": "code",
   "execution_count": null,
   "id": "af0776b2",
   "metadata": {
    "id": "af0776b2"
   },
   "outputs": [],
   "source": [
    "CPlot(data[::100],'YearMonth')"
   ]
  },
  {
   "cell_type": "code",
   "execution_count": null,
   "id": "55c64798",
   "metadata": {
    "id": "55c64798"
   },
   "outputs": [],
   "source": [
    "data.drop(['YearMonth'],axis=1,inplace=True)\n"
   ]
  },
  {
   "cell_type": "code",
   "execution_count": null,
   "id": "403fceb2",
   "metadata": {
    "id": "403fceb2"
   },
   "outputs": [],
   "source": [
    "BPlot(Data,'Month')"
   ]
  },
  {
   "cell_type": "code",
   "execution_count": null,
   "id": "5da9a3a2",
   "metadata": {
    "id": "5da9a3a2"
   },
   "outputs": [],
   "source": [
    "BPlot(Data,'Month','WeekDay')"
   ]
  },
  {
   "cell_type": "code",
   "execution_count": null,
   "id": "547a3242",
   "metadata": {
    "id": "547a3242"
   },
   "outputs": [],
   "source": [
    "BPlot(Data,'Month','WeekDay','DayPart')"
   ]
  },
  {
   "cell_type": "code",
   "execution_count": null,
   "id": "c619f719",
   "metadata": {
    "id": "c619f719"
   },
   "outputs": [],
   "source": []
  },
  {
   "cell_type": "code",
   "execution_count": null,
   "id": "6c3904b6",
   "metadata": {
    "id": "6c3904b6"
   },
   "outputs": [],
   "source": [
    "Pie(Data,'Day')"
   ]
  },
  {
   "cell_type": "code",
   "execution_count": null,
   "id": "5b554868",
   "metadata": {
    "id": "5b554868"
   },
   "outputs": [],
   "source": [
    "Pie(Data,'Hour')"
   ]
  },
  {
   "cell_type": "code",
   "execution_count": null,
   "id": "f77edb58",
   "metadata": {
    "id": "f77edb58"
   },
   "outputs": [],
   "source": [
    "data"
   ]
  },
  {
   "cell_type": "code",
   "execution_count": null,
   "id": "31916a58",
   "metadata": {
    "id": "31916a58"
   },
   "outputs": [],
   "source": [
    "Pie(Data,'WeekDay')"
   ]
  },
  {
   "cell_type": "code",
   "execution_count": null,
   "id": "6ef9c8ad",
   "metadata": {
    "id": "6ef9c8ad"
   },
   "outputs": [],
   "source": [
    "Pie(Data,'WeekEnd Case')"
   ]
  },
  {
   "cell_type": "code",
   "execution_count": null,
   "id": "a527c990",
   "metadata": {
    "id": "a527c990"
   },
   "outputs": [],
   "source": [
    "Pie(Data,'DayPart')"
   ]
  },
  {
   "cell_type": "code",
   "execution_count": null,
   "id": "8d2f949b",
   "metadata": {
    "id": "8d2f949b"
   },
   "outputs": [],
   "source": [
    "KPlot(Data,'Desc Char Length')"
   ]
  },
  {
   "cell_type": "code",
   "execution_count": null,
   "id": "f71ac087",
   "metadata": {
    "id": "f71ac087"
   },
   "outputs": [],
   "source": [
    "KPlot(Data,'Desc Word Length')"
   ]
  },
  {
   "cell_type": "code",
   "execution_count": null,
   "id": "38fc88d2",
   "metadata": {
    "id": "38fc88d2"
   },
   "outputs": [],
   "source": [
    "JPlot(Data[::10],'Desc Char Length','Desc Word Length','kde')"
   ]
  },
  {
   "cell_type": "code",
   "execution_count": null,
   "id": "f647f12f",
   "metadata": {},
   "outputs": [],
   "source": [
    "data.head()"
   ]
  },
  {
   "cell_type": "code",
   "execution_count": null,
   "id": "670d762d",
   "metadata": {},
   "outputs": [],
   "source": []
  },
  {
   "cell_type": "code",
   "execution_count": null,
   "id": "b0851e39",
   "metadata": {},
   "outputs": [],
   "source": []
  },
  {
   "cell_type": "code",
   "execution_count": null,
   "id": "d2f215aa",
   "metadata": {
    "id": "d2f215aa"
   },
   "outputs": [],
   "source": [
    "WordFeaturesList = [c for c in data.columns if 'Word' in c]\n",
    "WordFeaturesList"
   ]
  },
  {
   "cell_type": "code",
   "execution_count": null,
   "id": "a9e9b40c",
   "metadata": {
    "id": "a9e9b40c"
   },
   "outputs": [],
   "source": [
    "WordFeaturesList.remove('Desc Word Length')\n",
    "WordFeaturesList"
   ]
  },
  {
   "cell_type": "code",
   "execution_count": null,
   "id": "a93d4c2f",
   "metadata": {
    "id": "a93d4c2f"
   },
   "outputs": [],
   "source": [
    "N = 0\n",
    "fig, ax = plt.subplots(figsize=(10,20))\n",
    "for i in range(5) : \n",
    "    for j in range(2) : \n",
    "        N+=1\n",
    "        plt.subplot(5,2,N)\n",
    "        sns.countplot(x=WordFeaturesList[N-1], data=Data,facecolor=(0, 0, 0, 0),linewidth=5,edgecolor=sns.color_palette(\"dark\", 3))"
   ]
  },
  {
   "cell_type": "code",
   "execution_count": null,
   "id": "83c6443c",
   "metadata": {},
   "outputs": [],
   "source": []
  },
  {
   "cell_type": "code",
   "execution_count": null,
   "id": "b4bb98c2",
   "metadata": {},
   "outputs": [],
   "source": []
  },
  {
   "cell_type": "code",
   "execution_count": null,
   "id": "652cdb9d",
   "metadata": {},
   "outputs": [],
   "source": []
  },
  {
   "cell_type": "code",
   "execution_count": null,
   "id": "84045cb0",
   "metadata": {
    "id": "84045cb0"
   },
   "outputs": [],
   "source": [
    "WordExistNumbers = list(data[WordFeaturesList].sum().values)\n",
    "WordExistNumbers"
   ]
  },
  {
   "cell_type": "code",
   "execution_count": null,
   "id": "c55bcf16",
   "metadata": {},
   "outputs": [],
   "source": [
    "WordExistRatios = [np.round(100*i/data.shape[0],2) for i in WordExistNumbers]\n",
    "WordExistNumbers,WordExistRatios\n",
    "# for a,b in zip(data[WordFeaturesList].sum().index,data[WordFeaturesList].sum().values) : \n",
    "#     print(a,b)"
   ]
  },
  {
   "cell_type": "code",
   "execution_count": null,
   "id": "c19c3b3f",
   "metadata": {},
   "outputs": [],
   "source": []
  },
  {
   "cell_type": "code",
   "execution_count": null,
   "id": "f5c21841",
   "metadata": {},
   "outputs": [],
   "source": []
  },
  {
   "cell_type": "code",
   "execution_count": null,
   "id": "9ec98a15",
   "metadata": {
    "id": "9ec98a15"
   },
   "outputs": [],
   "source": [
    "ThisData = pd.DataFrame([WordExistRatios,WordFeaturesList],index =['Percentage','Words']).T\n",
    "ThisData"
   ]
  },
  {
   "cell_type": "code",
   "execution_count": null,
   "id": "c820a2e1",
   "metadata": {
    "id": "c820a2e1"
   },
   "outputs": [],
   "source": [
    "fig, ax = plt.subplots(figsize=(5,5))\n",
    "ax = sns.barplot(x=\"Percentage\", y=\"Words\", data=ThisData)"
   ]
  },
  {
   "cell_type": "code",
   "execution_count": null,
   "id": "433de6de",
   "metadata": {
    "id": "433de6de"
   },
   "outputs": [],
   "source": []
  },
  {
   "cell_type": "code",
   "execution_count": null,
   "id": "3ecf1855",
   "metadata": {
    "id": "3ecf1855"
   },
   "outputs": [],
   "source": []
  },
  {
   "cell_type": "code",
   "execution_count": null,
   "id": "30bbdd51",
   "metadata": {
    "id": "30bbdd51"
   },
   "outputs": [],
   "source": [
    "# pip install folium"
   ]
  },
  {
   "cell_type": "code",
   "execution_count": null,
   "id": "741b1aea",
   "metadata": {
    "id": "741b1aea"
   },
   "outputs": [],
   "source": [
    "import folium\n",
    "from folium.plugins import MarkerCluster"
   ]
  },
  {
   "cell_type": "code",
   "execution_count": null,
   "id": "5550380e",
   "metadata": {
    "id": "5550380e"
   },
   "outputs": [],
   "source": [
    "world_map= folium.Map(tiles=\"cartodbpositron\")\n",
    "marker_cluster = MarkerCluster().add_to(world_map)\n",
    "for i in tqdm(range(0,data.shape[0],50)):\n",
    "        lat = data.iloc[i]['Latt']\n",
    "        long = data.iloc[i]['Long']\n",
    "        radius=5\n",
    "        popup_text = \"Country : {}<br> With Quantity : {}<br>\"\n",
    "        popup_text = popup_text.format(data.iloc[i]['Country'],data.iloc[i]['Quantity'])\n",
    "        folium.CircleMarker(\n",
    "            location = [lat, long], radius=radius,popup= popup_text,fill =True).add_to(marker_cluster)\n",
    "world_map"
   ]
  },
  {
   "cell_type": "code",
   "execution_count": null,
   "id": "b74ad249",
   "metadata": {
    "id": "b74ad249"
   },
   "outputs": [],
   "source": [
    "data"
   ]
  },
  {
   "cell_type": "code",
   "execution_count": null,
   "id": "cd35aa9e",
   "metadata": {
    "id": "cd35aa9e"
   },
   "outputs": [],
   "source": [
    "Pie(Data,'Continent')"
   ]
  },
  {
   "cell_type": "code",
   "execution_count": null,
   "id": "1612dab6",
   "metadata": {
    "id": "1612dab6"
   },
   "outputs": [],
   "source": [
    "Pie(Data,'Quantity Level')"
   ]
  },
  {
   "cell_type": "code",
   "execution_count": null,
   "id": "03f2df64",
   "metadata": {
    "id": "03f2df64"
   },
   "outputs": [],
   "source": [
    "CPlot(Data,'UnitPrice Level')"
   ]
  },
  {
   "cell_type": "code",
   "execution_count": null,
   "id": "5ab15e65",
   "metadata": {
    "id": "5ab15e65"
   },
   "outputs": [],
   "source": [
    "Pie(Data,'TotalPriceLevel')"
   ]
  },
  {
   "cell_type": "code",
   "execution_count": null,
   "id": "4f0eadca",
   "metadata": {
    "id": "4f0eadca"
   },
   "outputs": [],
   "source": [
    "CPlot(Data,'StockCodeLetters')"
   ]
  },
  {
   "cell_type": "code",
   "execution_count": null,
   "id": "ae177b26",
   "metadata": {
    "id": "ae177b26"
   },
   "outputs": [],
   "source": [
    "CPlot(Data[Data['StockCodeLetters']!=''],'StockCodeLetters')"
   ]
  },
  {
   "cell_type": "code",
   "execution_count": null,
   "id": "ed5ed8e5",
   "metadata": {
    "id": "ed5ed8e5"
   },
   "outputs": [],
   "source": [
    "Pie(Data,'StockCodeOnlyDigits')"
   ]
  },
  {
   "cell_type": "code",
   "execution_count": null,
   "id": "445b5a28",
   "metadata": {
    "id": "445b5a28"
   },
   "outputs": [],
   "source": [
    "CPlot(Data,'Season')"
   ]
  },
  {
   "cell_type": "code",
   "execution_count": null,
   "id": "13041686",
   "metadata": {
    "id": "13041686"
   },
   "outputs": [],
   "source": [
    "Pie(Data,'WeekEnd Case')"
   ]
  },
  {
   "cell_type": "code",
   "execution_count": null,
   "id": "e2b1c678",
   "metadata": {
    "id": "e2b1c678"
   },
   "outputs": [],
   "source": [
    "def SelectedFeaturePie(data,feature,Limit=10) : \n",
    "    fig, ax = plt.subplots(figsize=(15,4))\n",
    "    \n",
    "    plt.subplot(1,4,1)\n",
    "    plt.title('Summer')\n",
    "    Data = data[data['Season']=='Summer']\n",
    "    plt.pie(Data[feature].value_counts()[:Limit],labels=list(\n",
    "        Data[feature].value_counts()[:Limit].index),\n",
    "        autopct ='%1.2f%%' , labeldistance = 1.1,\n",
    "            explode = [0.05 for i in range(len(Data[feature].value_counts()[:Limit]))] )\n",
    "  \n",
    "    plt.subplot(1,4,2)\n",
    "    plt.title('Fall')\n",
    "    Data = data[data['Season']=='Fall']\n",
    "    plt.pie(Data[feature].value_counts()[:Limit],labels=list(\n",
    "        Data[feature].value_counts()[:Limit].index),\n",
    "        autopct ='%1.2f%%' , labeldistance = 1.1,explode = [0.05 for i in range(len(Data[feature].value_counts()[:Limit]))] )\n",
    "\n",
    "    plt.subplot(1,4,3)\n",
    "    plt.title('Winter')\n",
    "    Data = data[data['Season']=='Winter']\n",
    "    plt.pie(Data[feature].value_counts()[:Limit],labels=list(Data[feature].value_counts()[:Limit].index),\n",
    "        autopct ='%1.2f%%' , labeldistance = 1.1,explode = [0.05 for i in range(len(Data[feature].value_counts()[:Limit]))] )\n",
    "\n",
    "    plt.subplot(1,4,4)\n",
    "    plt.title('Spring')\n",
    "    Data = data[data['Season']=='Spring']\n",
    "    plt.pie(Data[feature].value_counts()[:Limit],labels=list(Data[feature].value_counts()[:Limit].index),\n",
    "        autopct ='%1.2f%%' , labeldistance = 1.1,explode = [0.05 for i in range(len(Data[feature].value_counts()[:Limit]))] )\n",
    "\n",
    "    plt.show()     \n"
   ]
  },
  {
   "cell_type": "code",
   "execution_count": null,
   "id": "96c2527b",
   "metadata": {},
   "outputs": [],
   "source": [
    "Pie(Data,'TotalPriceLevel')"
   ]
  },
  {
   "cell_type": "code",
   "execution_count": null,
   "id": "28a06062",
   "metadata": {
    "id": "28a06062"
   },
   "outputs": [],
   "source": [
    "SelectedFeaturePie(Data,'TotalPriceLevel')"
   ]
  },
  {
   "cell_type": "code",
   "execution_count": null,
   "id": "547d7ef6",
   "metadata": {},
   "outputs": [],
   "source": [
    "Pie(Data,'Quantity Level')"
   ]
  },
  {
   "cell_type": "code",
   "execution_count": null,
   "id": "e35a2672",
   "metadata": {
    "id": "e35a2672"
   },
   "outputs": [],
   "source": [
    "SelectedFeaturePie(Data,'Quantity Level')"
   ]
  },
  {
   "cell_type": "markdown",
   "id": "5d6033ca",
   "metadata": {
    "id": "5d6033ca"
   },
   "source": [
    "# 6) Data Preparing"
   ]
  },
  {
   "cell_type": "code",
   "execution_count": null,
   "id": "ea9130f8",
   "metadata": {
    "id": "ea9130f8"
   },
   "outputs": [],
   "source": [
    "data.head()"
   ]
  },
  {
   "cell_type": "code",
   "execution_count": null,
   "id": "e212d903",
   "metadata": {},
   "outputs": [],
   "source": [
    "data.shape"
   ]
  },
  {
   "cell_type": "code",
   "execution_count": null,
   "id": "5b0c8b2d",
   "metadata": {
    "id": "5b0c8b2d"
   },
   "outputs": [],
   "source": [
    "EncodedFeatures = ['Country','WeekDay','WeekDayCase','DayPart','Continent',\n",
    "                   'Quantity Level','UnitPrice Level','TotalPriceLevel',\n",
    "                   'StockCodeLetters','StockCodeOnlyDigits','Season','WeekEnd Case']"
   ]
  },
  {
   "cell_type": "code",
   "execution_count": null,
   "id": "0e3791ab",
   "metadata": {
    "id": "0e3791ab"
   },
   "outputs": [],
   "source": [
    "data[EncodedFeatures]"
   ]
  },
  {
   "cell_type": "code",
   "execution_count": null,
   "id": "3d12f3f9",
   "metadata": {},
   "outputs": [],
   "source": [
    "data.isna().sum()"
   ]
  },
  {
   "cell_type": "code",
   "execution_count": null,
   "id": "e3f66114",
   "metadata": {
    "id": "e3f66114"
   },
   "outputs": [],
   "source": [
    "def ApplyEncoder(OriginalColumn) : \n",
    "    global data\n",
    "    Encoder = LabelEncoder()\n",
    "    Encoder.fit(data[OriginalColumn])\n",
    "    return Encoder.transform(data[OriginalColumn])"
   ]
  },
  {
   "cell_type": "code",
   "execution_count": null,
   "id": "dfb59963",
   "metadata": {},
   "outputs": [],
   "source": [
    "M = 10"
   ]
  },
  {
   "cell_type": "code",
   "execution_count": null,
   "id": "98acb15b",
   "metadata": {},
   "outputs": [],
   "source": [
    "del M"
   ]
  },
  {
   "cell_type": "code",
   "execution_count": null,
   "id": "47e5decf",
   "metadata": {},
   "outputs": [],
   "source": [
    "M"
   ]
  },
  {
   "cell_type": "code",
   "execution_count": null,
   "id": "92542462",
   "metadata": {
    "id": "92542462"
   },
   "outputs": [],
   "source": [
    "for Col in EncodedFeatures : \n",
    "    data[f'Enc_{Col}'] = ApplyEncoder(Col)\n",
    "data.head()"
   ]
  },
  {
   "cell_type": "code",
   "execution_count": null,
   "id": "1e426e54",
   "metadata": {},
   "outputs": [],
   "source": [
    "data.columns"
   ]
  },
  {
   "cell_type": "code",
   "execution_count": null,
   "id": "c255244e",
   "metadata": {},
   "outputs": [],
   "source": [
    "X = data[['Quantity','UnitPrice','CustomerID','Member','Year','Month','Day','Hour','Desc Char Length','Desc Word Length',\n",
    "     'Repeated Word : bag','Repeated Word : red','Repeated Word : heart','Repeated Word : retrospot','Repeated Word : vintage',\n",
    "     'Repeated Word : design','Repeated Word : pink','Repeated Word : christmas','Repeated Word : box','Repeated Word : kitchen',\n",
    "     'TotalPrice','Enc_Country', 'Enc_WeekDay', 'Enc_WeekDayCase','Enc_DayPart','Enc_Continent','Enc_Quantity Level','Enc_UnitPrice Level',\n",
    "     'Enc_TotalPriceLevel', 'Enc_StockCodeLetters','Enc_StockCodeOnlyDigits', 'Enc_Season', 'Enc_WeekEnd Case']]"
   ]
  },
  {
   "cell_type": "code",
   "execution_count": null,
   "id": "bd9b1122",
   "metadata": {},
   "outputs": [],
   "source": [
    "X.info()"
   ]
  },
  {
   "cell_type": "code",
   "execution_count": null,
   "id": "b0330214",
   "metadata": {},
   "outputs": [],
   "source": [
    "data['CustomerID'].value_counts()"
   ]
  },
  {
   "cell_type": "code",
   "execution_count": null,
   "id": "e5aa2bcd",
   "metadata": {},
   "outputs": [],
   "source": [
    "data['CustomerID'].replace('No ID',0,inplace=True)"
   ]
  },
  {
   "cell_type": "code",
   "execution_count": null,
   "id": "ffbcc9f8",
   "metadata": {},
   "outputs": [],
   "source": [
    "X = data[['Quantity','UnitPrice','CustomerID','Member','Year','Month','Day','Hour','Desc Char Length','Desc Word Length',\n",
    "     'Repeated Word : bag','Repeated Word : red','Repeated Word : heart','Repeated Word : retrospot','Repeated Word : vintage',\n",
    "     'Repeated Word : design','Repeated Word : pink','Repeated Word : christmas','Repeated Word : box','Repeated Word : kitchen',\n",
    "     'TotalPrice','Enc_Country', 'Enc_WeekDay', 'Enc_WeekDayCase','Enc_DayPart','Enc_Continent','Enc_Quantity Level','Enc_UnitPrice Level',\n",
    "     'Enc_TotalPriceLevel', 'Enc_StockCodeLetters','Enc_StockCodeOnlyDigits', 'Enc_Season', 'Enc_WeekEnd Case']]"
   ]
  },
  {
   "cell_type": "code",
   "execution_count": null,
   "id": "58c4e2bb",
   "metadata": {},
   "outputs": [],
   "source": [
    "X.info()"
   ]
  },
  {
   "cell_type": "code",
   "execution_count": null,
   "id": "7f24b28e",
   "metadata": {},
   "outputs": [],
   "source": [
    "X"
   ]
  },
  {
   "cell_type": "code",
   "execution_count": null,
   "id": "45b84808",
   "metadata": {},
   "outputs": [],
   "source": [
    "from sklearn.preprocessing import StandardScaler\n",
    "scaler = StandardScaler()\n",
    "X_ = scaler.fit_transform(X)"
   ]
  },
  {
   "cell_type": "code",
   "execution_count": null,
   "id": "cc45b6c6",
   "metadata": {},
   "outputs": [],
   "source": [
    "X_"
   ]
  },
  {
   "cell_type": "code",
   "execution_count": null,
   "id": "244eea3d",
   "metadata": {},
   "outputs": [],
   "source": [
    "X_ = pd.DataFrame(X_,columns = X.columns)\n",
    "X_"
   ]
  },
  {
   "cell_type": "code",
   "execution_count": null,
   "id": "7ac2132d",
   "metadata": {},
   "outputs": [],
   "source": [
    "X_['Quantity'].min(),X_['Quantity'].max()"
   ]
  },
  {
   "cell_type": "code",
   "execution_count": null,
   "id": "60910574",
   "metadata": {},
   "outputs": [],
   "source": [
    "X_.describe()"
   ]
  },
  {
   "cell_type": "code",
   "execution_count": null,
   "id": "7c20caf2",
   "metadata": {},
   "outputs": [],
   "source": [
    "from sklearn.cluster import KMeans"
   ]
  },
  {
   "cell_type": "code",
   "execution_count": null,
   "id": "84651f5b",
   "metadata": {},
   "outputs": [],
   "source": [
    "KMeansModel = KMeans(n_clusters=3,max_iter=1000,verbose=2,random_state=33)\n",
    "KMeansModel.fit(X_)\n",
    "print('KMeansModel intertia is : ' , KMeansModel.inertia_)\n",
    "print('KMeansModel No. of iteration is : ' , KMeansModel.n_iter_)"
   ]
  },
  {
   "cell_type": "code",
   "execution_count": null,
   "id": "29fab9ec",
   "metadata": {},
   "outputs": [],
   "source": []
  },
  {
   "cell_type": "code",
   "execution_count": null,
   "id": "83cf7ec9",
   "metadata": {},
   "outputs": [],
   "source": []
  },
  {
   "cell_type": "code",
   "execution_count": null,
   "id": "c5ab2f0f",
   "metadata": {},
   "outputs": [],
   "source": []
  },
  {
   "cell_type": "code",
   "execution_count": null,
   "id": "a684a3d8",
   "metadata": {},
   "outputs": [],
   "source": []
  },
  {
   "cell_type": "code",
   "execution_count": null,
   "id": "4331cfe2",
   "metadata": {},
   "outputs": [],
   "source": [
    "X_.columns"
   ]
  },
  {
   "cell_type": "code",
   "execution_count": null,
   "id": "f81b6dc5",
   "metadata": {},
   "outputs": [],
   "source": [
    "KMeansModel = KMeans(n_clusters=3,max_iter=1000,verbose=2,random_state=33)\n",
    "KMeansModel.fit(X_[['Quantity', 'UnitPrice', 'CustomerID']])\n",
    "print('KMeansModel intertia is : ' , KMeansModel.inertia_)\n",
    "print('KMeansModel No. of iteration is : ' , KMeansModel.n_iter_)"
   ]
  },
  {
   "cell_type": "code",
   "execution_count": null,
   "id": "5e58b342",
   "metadata": {},
   "outputs": [],
   "source": [
    "import random "
   ]
  },
  {
   "cell_type": "code",
   "execution_count": null,
   "id": "6dfbf076",
   "metadata": {},
   "outputs": [],
   "source": [
    "InertiaDict = {}\n",
    "M = 0\n",
    "for j in range(2,5) :\n",
    "    for i in range(10) : \n",
    "        M+=1\n",
    "        Columns = random.sample(set(X_.columns),j)\n",
    "        KMeansModel = KMeans(n_clusters=3,max_iter=1000,verbose=0,random_state=33)\n",
    "        KMeansModel.fit(X_[Columns])\n",
    "        InertiaValue = KMeansModel.inertia_/1000000\n",
    "        InertiaDict[M] = [InertiaValue,Columns]\n",
    "        print(f'for Columns {Columns} intertia is : {InertiaValue}')   "
   ]
  },
  {
   "cell_type": "code",
   "execution_count": null,
   "id": "79e6ef69",
   "metadata": {},
   "outputs": [],
   "source": []
  },
  {
   "cell_type": "code",
   "execution_count": null,
   "id": "24b2d4f1",
   "metadata": {},
   "outputs": [],
   "source": []
  },
  {
   "cell_type": "code",
   "execution_count": null,
   "id": "44c75eed",
   "metadata": {},
   "outputs": [],
   "source": []
  },
  {
   "cell_type": "code",
   "execution_count": null,
   "id": "16d1cf5e",
   "metadata": {},
   "outputs": [],
   "source": [
    "MinValue = 20\n",
    "BestFit = 0\n",
    "for k,v in InertiaDict.items() : \n",
    "    if float(v[0]) < MinValue : \n",
    "        MinValue =float(v[0]) \n",
    "        BestFit = k\n",
    "BestFit,MinValue    "
   ]
  },
  {
   "cell_type": "code",
   "execution_count": null,
   "id": "d9f766f0",
   "metadata": {},
   "outputs": [],
   "source": [
    "InertiaDict[BestFit]"
   ]
  },
  {
   "cell_type": "code",
   "execution_count": null,
   "id": "49b897e1",
   "metadata": {},
   "outputs": [],
   "source": [
    "BestColumns = InertiaDict[BestFit][1]\n",
    "BestColumns"
   ]
  },
  {
   "cell_type": "code",
   "execution_count": null,
   "id": "51c98967",
   "metadata": {},
   "outputs": [],
   "source": []
  },
  {
   "cell_type": "code",
   "execution_count": null,
   "id": "ed93640c",
   "metadata": {},
   "outputs": [],
   "source": []
  },
  {
   "cell_type": "code",
   "execution_count": null,
   "id": "1b46ca55",
   "metadata": {},
   "outputs": [],
   "source": [
    "print('KMeansModel centers are : ' , KMeansModel.cluster_centers_)\n",
    "print('KMeansModel labels are : ' , KMeansModel.labels_)"
   ]
  },
  {
   "cell_type": "code",
   "execution_count": null,
   "id": "5d170155",
   "metadata": {},
   "outputs": [],
   "source": [
    "pd.Series(KMeansModel.labels_).value_counts()"
   ]
  },
  {
   "cell_type": "code",
   "execution_count": null,
   "id": "584dec43",
   "metadata": {},
   "outputs": [],
   "source": [
    "len(KMeansModel.labels_)"
   ]
  },
  {
   "cell_type": "code",
   "execution_count": null,
   "id": "f3ec2223",
   "metadata": {},
   "outputs": [],
   "source": [
    "data.shape"
   ]
  },
  {
   "cell_type": "code",
   "execution_count": null,
   "id": "ef7723f3",
   "metadata": {},
   "outputs": [],
   "source": [
    "data['Order Type'] = KMeansModel.labels_\n",
    "\n",
    "data"
   ]
  },
  {
   "cell_type": "code",
   "execution_count": null,
   "id": "6e34881d",
   "metadata": {},
   "outputs": [],
   "source": []
  },
  {
   "cell_type": "code",
   "execution_count": null,
   "id": "10d85fa7",
   "metadata": {},
   "outputs": [],
   "source": [
    "Types = {0:'Buying Gifts',1:'Small Business',2:'HouseHolds'}\n",
    "data['Order Type'] = data['Order Type'].map(Types)\n",
    "data"
   ]
  },
  {
   "cell_type": "code",
   "execution_count": null,
   "id": "30a7186a",
   "metadata": {},
   "outputs": [],
   "source": [
    "data.to_csv('results.csv')"
   ]
  },
  {
   "cell_type": "code",
   "execution_count": null,
   "id": "cedb428c",
   "metadata": {},
   "outputs": [],
   "source": [
    "data.columns"
   ]
  },
  {
   "cell_type": "code",
   "execution_count": null,
   "id": "2b816251",
   "metadata": {},
   "outputs": [],
   "source": [
    "data['Order Type'].value_counts()"
   ]
  },
  {
   "cell_type": "code",
   "execution_count": null,
   "id": "d069df43",
   "metadata": {},
   "outputs": [],
   "source": [
    "plt.figure(figsize = (10,5))\n",
    "plt.scatter(data['WeekDay'],data['TotalPriceLevel'],s=150,alpha=0.5,c=KMeansModel.labels_)\n",
    "plt.show()"
   ]
  },
  {
   "cell_type": "code",
   "execution_count": null,
   "id": "faac429f",
   "metadata": {},
   "outputs": [],
   "source": []
  },
  {
   "cell_type": "code",
   "execution_count": null,
   "id": "08762eb1",
   "metadata": {},
   "outputs": [],
   "source": []
  },
  {
   "cell_type": "code",
   "execution_count": null,
   "id": "95929ac9",
   "metadata": {},
   "outputs": [],
   "source": []
  },
  {
   "cell_type": "code",
   "execution_count": null,
   "id": "d65201c9",
   "metadata": {},
   "outputs": [],
   "source": [
    "ThisData = pd.DataFrame([[0,0,0]],columns = ['Eg','Fr','Uk'])\n",
    "ThisData"
   ]
  },
  {
   "cell_type": "code",
   "execution_count": null,
   "id": "f1486c00",
   "metadata": {},
   "outputs": [],
   "source": [
    "CountriesList = ['Eg','Fr','Uk']"
   ]
  },
  {
   "cell_type": "code",
   "execution_count": null,
   "id": "2e025073",
   "metadata": {},
   "outputs": [],
   "source": [
    "def SelectDummy(InputCountry,Index) : \n",
    "    global ThisData,CountriesList\n",
    "    for Country in CountriesList : \n",
    "        if str(InputCountry) == Country : \n",
    "            ThisData.loc[Index,Country]= 1\n",
    "        else : \n",
    "            ThisData.loc[Index,Country]= 0        \n",
    "            "
   ]
  },
  {
   "cell_type": "code",
   "execution_count": null,
   "id": "c4f96812",
   "metadata": {},
   "outputs": [],
   "source": [
    "SelectDummy('Eg',1)\n",
    "ThisData"
   ]
  },
  {
   "cell_type": "code",
   "execution_count": null,
   "id": "2952c41f",
   "metadata": {},
   "outputs": [],
   "source": [
    "SelectDummy('Fr',2)\n",
    "ThisData"
   ]
  },
  {
   "cell_type": "code",
   "execution_count": null,
   "id": "d19735ab",
   "metadata": {},
   "outputs": [],
   "source": [
    "SelectDummy('Gr',3)\n",
    "ThisData"
   ]
  },
  {
   "cell_type": "code",
   "execution_count": null,
   "id": "ba0d091d",
   "metadata": {},
   "outputs": [],
   "source": []
  }
 ],
 "metadata": {
  "colab": {
   "collapsed_sections": [
    "20df03a7"
   ],
   "name": "Untitled.ipynb",
   "provenance": []
  },
  "kernelspec": {
   "display_name": "Python 3",
   "language": "python",
   "name": "python3"
  },
  "language_info": {
   "codemirror_mode": {
    "name": "ipython",
    "version": 3
   },
   "file_extension": ".py",
   "mimetype": "text/x-python",
   "name": "python",
   "nbconvert_exporter": "python",
   "pygments_lexer": "ipython3",
   "version": "3.8.8"
  }
 },
 "nbformat": 4,
 "nbformat_minor": 5
}
