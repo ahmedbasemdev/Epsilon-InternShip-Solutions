{
 "cells": [
  {
   "cell_type": "code",
   "execution_count": 2,
   "id": "211c0d63",
   "metadata": {},
   "outputs": [],
   "source": [
    "import streamlit as st \n",
    "from pickle import load\n",
    "import pandas as pd\n",
    "import numpy as np"
   ]
  },
  {
   "cell_type": "code",
   "execution_count": 3,
   "id": "0520d23c",
   "metadata": {},
   "outputs": [],
   "source": [
    "def prediction(model , df):\n",
    "    predictions_result = model.predict(df)\n",
    "    return predictions_result"
   ]
  },
  {
   "cell_type": "code",
   "execution_count": 5,
   "id": "6c07a608",
   "metadata": {},
   "outputs": [],
   "source": [
    "model = load(open('model.pkl', 'rb'))\n",
    "scaler = load(open('scaler.pkl', 'rb'))\n",
    "ohe = load(open('OHE_Encoder.pkl', 'rb'))\n",
    "be = load(open('Binary_Encoder.pkl', 'rb'))"
   ]
  },
  {
   "cell_type": "code",
   "execution_count": 6,
   "id": "ba1a06ac",
   "metadata": {},
   "outputs": [
    {
     "name": "stderr",
     "output_type": "stream",
     "text": [
      "2022-07-30 12:37:49.480 \n",
      "  \u001b[33m\u001b[1mWarning:\u001b[0m to view this Streamlit app on a browser, run it with the following\n",
      "  command:\n",
      "\n",
      "    streamlit run C:\\Users\\karim.hamdy\\Anaconda3\\envs\\ML\\lib\\site-packages\\ipykernel_launcher.py [ARGUMENTS]\n"
     ]
    }
   ],
   "source": [
    "st.title('Banglore Resturants Succes')\n",
    "st.write('This is a web app to predict the succes of a new restaurant in banglore based on\\\n",
    "        several features that you can see in the sidebar. Please adjust the\\\n",
    "        value of each feature. After that, click on the Predict button at the bottom to\\\n",
    "        see the prediction of the resturant.')"
   ]
  },
  {
   "cell_type": "code",
   "execution_count": 7,
   "id": "1c2de3b7",
   "metadata": {},
   "outputs": [],
   "source": [
    "votes         = st.sidebar.slider(label = 'votes', min_value = 0.0,\n",
    "                        max_value = 16832.0 ,\n",
    "                        value = 0.0,\n",
    "                        step = 20.0)\n",
    "                        \n",
    "approx_cost_for_two_people = st.sidebar.slider(label = 'approx_cost_for_two_people', min_value = 40.0,\n",
    "                        max_value = 6000.0 ,\n",
    "                        value = 400.0,\n",
    "                        step = 10.0)\n",
    "\n",
    "\n",
    "cuisines = st.sidebar.slider(label = 'cuisines', min_value = 40.0,\n",
    "                        max_value = 6000.0 ,\n",
    "                        value = 400.0,\n",
    "                        step = 10.0)\n",
    "\n",
    "Online_order = st.selectbox(label = 'Online_order',options = ('Yes', 'No'))\n",
    "Book_Table = st.selectbox(\n",
    "     label = 'Book_Table', options = ('Yes', 'No'))\n",
    "Location = st.selectbox(\n",
    "     label = 'Location',options = \n",
    "     ('Banashankari', 'Basavanagudi', 'other', 'Jayanagar', 'JP Nagar',\n",
    "       'Bannerghatta Road', 'BTM', 'Electronic City', 'Shanti Nagar',\n",
    "       'Koramangala 5th Block', 'Richmond Road', 'HSR',\n",
    "       'Koramangala 7th Block', 'Bellandur', 'Sarjapur Road',\n",
    "       'Marathahalli', 'Whitefield', 'Old Airport Road', 'Indiranagar',\n",
    "       'Koramangala 1st Block', 'Frazer Town', 'MG Road', 'Brigade Road',\n",
    "       'Lavelle Road', 'Church Street', 'Ulsoor', 'Residency Road',\n",
    "       'Shivajinagar', 'St. Marks Road', 'Cunningham Road',\n",
    "       'Commercial Street', 'Vasanth Nagar', 'Domlur',\n",
    "       'Koramangala 8th Block', 'Ejipura', 'Jeevan Bhima Nagar',\n",
    "       'Kammanahalli', 'Koramangala 6th Block', 'Brookefield',\n",
    "       'Koramangala 4th Block', 'Banaswadi', 'Kalyan Nagar',\n",
    "       'Malleshwaram', 'Rajajinagar', 'New BEL Road'))\n",
    "rest_type = st.selectbox(\n",
    "     label = 'rest_type',options = \n",
    "     ('Casual Dining', 'other', 'Quick Bites', 'Cafe', 'Delivery',\n",
    "       'Dessert Parlor', 'Bakery', 'Takeaway, Delivery', 'Beverage Shop',\n",
    "       'Bar', 'Casual Dining, Bar', 'Food Court'))\n",
    "listed_in_type = st.selectbox(\n",
    "     label = 'listed_in(type)',options = \n",
    "     ('Buffet', 'Cafes', 'Delivery', 'Desserts', 'Dine-out',\n",
    "       'Drinks & nightlife', 'Pubs and bars'))\n",
    "listed_in_city = st.selectbox(\n",
    "     label = 'listed_in(city)',options = \n",
    "     ('Banashankari', 'Bannerghatta Road', 'Basavanagudi', 'Bellandur',\n",
    "       'Brigade Road', 'Brookefield', 'BTM', 'Church Street',\n",
    "       'Electronic City', 'Frazer Town', 'HSR', 'Indiranagar',\n",
    "       'Jayanagar', 'JP Nagar', 'Kalyan Nagar', 'Kammanahalli',\n",
    "       'Koramangala 4th Block', 'Koramangala 5th Block',\n",
    "       'Koramangala 6th Block', 'Koramangala 7th Block', 'Lavelle Road',\n",
    "       'Malleshwaram', 'Marathahalli', 'MG Road', 'New BEL Road',\n",
    "       'Old Airport Road', 'Rajajinagar', 'Residency Road',\n",
    "       'Sarjapur Road', 'Whitefield'))"
   ]
  },
  {
   "cell_type": "code",
   "execution_count": 8,
   "id": "8df752a2",
   "metadata": {},
   "outputs": [],
   "source": [
    "features = {\n",
    "    'votes':votes ,\n",
    "    'approx_cost(for two people)':approx_cost_for_two_people,\n",
    "    \"online_order\":Online_order,\n",
    "    \"book_table\" : Book_Table,\n",
    "    \"location\":Location,\n",
    "    \"rest_type\":rest_type,\n",
    "    \"listed_in(type)\":listed_in_type,\n",
    "    \"listed_in(city)\":listed_in_city,\n",
    "    'cuisines':cuisines\n",
    "    \n",
    "}\n",
    "features = pd.DataFrame([features])"
   ]
  },
  {
   "cell_type": "code",
   "execution_count": 9,
   "id": "44bcbd43",
   "metadata": {},
   "outputs": [],
   "source": [
    "def count_types(r):\n",
    "    return len(r.split(','))"
   ]
  },
  {
   "cell_type": "code",
   "execution_count": 21,
   "id": "41127a79",
   "metadata": {},
   "outputs": [],
   "source": [
    "features['total_types'] = features['rest_type'].apply(count_types)"
   ]
  },
  {
   "cell_type": "code",
   "execution_count": null,
   "id": "44fd5d73",
   "metadata": {},
   "outputs": [],
   "source": [
    "xy = ohe.transform(features[['online_order','book_table','listed_in(type)']])"
   ]
  },
  {
   "cell_type": "code",
   "execution_count": null,
   "id": "ab7ac2d5",
   "metadata": {},
   "outputs": [],
   "source": [
    "xy_df = pd.DataFrame(xy , columns=ohe.get_feature_names_out())"
   ]
  },
  {
   "cell_type": "code",
   "execution_count": null,
   "id": "796a4285",
   "metadata": {},
   "outputs": [],
   "source": [
    "features  = pd.concat([features,xy_df] , axis = 1)"
   ]
  },
  {
   "cell_type": "code",
   "execution_count": null,
   "id": "0b8d0158",
   "metadata": {},
   "outputs": [],
   "source": [
    "features.drop(['online_order','book_table','listed_in(type)'] , axis =1 , inplace = True)"
   ]
  },
  {
   "cell_type": "code",
   "execution_count": null,
   "id": "5631e6dc",
   "metadata": {},
   "outputs": [],
   "source": [
    "be_df= be.transform(features[['location','rest_type','listed_in(city)' ]])"
   ]
  },
  {
   "cell_type": "code",
   "execution_count": null,
   "id": "c65f664d",
   "metadata": {},
   "outputs": [],
   "source": [
    "features = pd.concat([features,be_df] , axis = 1)"
   ]
  },
  {
   "cell_type": "code",
   "execution_count": null,
   "id": "3f235c98",
   "metadata": {},
   "outputs": [],
   "source": [
    "features.drop(['location','rest_type','listed_in(city)' ], axis = 1 , inplace = True)"
   ]
  },
  {
   "cell_type": "code",
   "execution_count": null,
   "id": "5225d442",
   "metadata": {},
   "outputs": [],
   "source": [
    "features[['votes','approx_cost(for two people)']] = scaler.transform(features[['votes','approx_cost(for two people)']])\n"
   ]
  },
  {
   "cell_type": "code",
   "execution_count": null,
   "id": "de4e7d7d",
   "metadata": {},
   "outputs": [],
   "source": [
    "if st.button('Predict'):\n",
    "    \n",
    "    prediction = prediction(model, features)\n",
    "    st.write(' Based on feature values, the resturant is '+ str(prediction))"
   ]
  },
  {
   "cell_type": "code",
   "execution_count": 23,
   "id": "b8a1b19b",
   "metadata": {},
   "outputs": [
    {
     "name": "stdout",
     "output_type": "stream",
     "text": [
      "^C\n"
     ]
    }
   ],
   "source": [
    "!streamlit run C:\\Users\\karim\\Anaconda3\\envs\\karim\\lib\\site-packages\\ipykernel_launcher.py"
   ]
  },
  {
   "cell_type": "code",
   "execution_count": null,
   "id": "3c0a3141",
   "metadata": {},
   "outputs": [],
   "source": []
  },
  {
   "cell_type": "code",
   "execution_count": null,
   "id": "0f815633",
   "metadata": {},
   "outputs": [],
   "source": []
  },
  {
   "cell_type": "code",
   "execution_count": null,
   "id": "c88a68d2",
   "metadata": {},
   "outputs": [],
   "source": []
  },
  {
   "cell_type": "code",
   "execution_count": null,
   "id": "85fe4eb7",
   "metadata": {},
   "outputs": [],
   "source": []
  }
 ],
 "metadata": {
  "kernelspec": {
   "display_name": "Python 3 (ipykernel)",
   "language": "python",
   "name": "python3"
  },
  "language_info": {
   "codemirror_mode": {
    "name": "ipython",
    "version": 3
   },
   "file_extension": ".py",
   "mimetype": "text/x-python",
   "name": "python",
   "nbconvert_exporter": "python",
   "pygments_lexer": "ipython3",
   "version": "3.10.4"
  }
 },
 "nbformat": 4,
 "nbformat_minor": 5
}
